{
 "cells": [
  {
   "cell_type": "code",
   "execution_count": null,
   "id": "97dac029-a8aa-4cfe-9922-277b415baace",
   "metadata": {},
   "outputs": [],
   "source": [
    "!pip install transformers"
   ]
  },
  {
   "cell_type": "code",
   "execution_count": 4,
   "id": "87adbb59-02a1-4098-8dd7-66e91855f585",
   "metadata": {},
   "outputs": [
    {
     "name": "stderr",
     "output_type": "stream",
     "text": [
      "No model was supplied, defaulted to distilbert-base-uncased-finetuned-sst-2-english and revision af0f99b (https://huggingface.co/distilbert-base-uncased-finetuned-sst-2-english).\n",
      "Using a pipeline without specifying a model name and revision in production is not recommended.\n"
     ]
    }
   ],
   "source": [
    "from transformers import pipeline\n",
    "classifier= pipeline(\"sentiment-analysis\")"
   ]
  },
  {
   "cell_type": "code",
   "execution_count": 3,
   "id": "74342fba-efa6-4a72-a370-1a54b00bc84b",
   "metadata": {},
   "outputs": [
    {
     "name": "stderr",
     "output_type": "stream",
     "text": [
      "No model was supplied, defaulted to distilbert-base-uncased-finetuned-sst-2-english and revision af0f99b (https://huggingface.co/distilbert-base-uncased-finetuned-sst-2-english).\n",
      "Using a pipeline without specifying a model name and revision in production is not recommended.\n"
     ]
    },
    {
     "data": {
      "application/vnd.jupyter.widget-view+json": {
       "model_id": "a5c3c96d0b8c4587af216eff0958d07a",
       "version_major": 2,
       "version_minor": 0
      },
      "text/plain": [
       "Downloading config.json:   0%|          | 0.00/629 [00:00<?, ?B/s]"
      ]
     },
     "metadata": {},
     "output_type": "display_data"
    },
    {
     "data": {
      "application/vnd.jupyter.widget-view+json": {
       "model_id": "9d092f73ea9c409d97e19849927f51e8",
       "version_major": 2,
       "version_minor": 0
      },
      "text/plain": [
       "Downloading pytorch_model.bin:   0%|          | 0.00/255M [00:00<?, ?B/s]"
      ]
     },
     "metadata": {},
     "output_type": "display_data"
    },
    {
     "data": {
      "application/vnd.jupyter.widget-view+json": {
       "model_id": "78bf1be6d97b4560bbefbb4c7af4c9c5",
       "version_major": 2,
       "version_minor": 0
      },
      "text/plain": [
       "Downloading tokenizer_config.json:   0%|          | 0.00/48.0 [00:00<?, ?B/s]"
      ]
     },
     "metadata": {},
     "output_type": "display_data"
    },
    {
     "data": {
      "application/vnd.jupyter.widget-view+json": {
       "model_id": "a9406b1d6ee04f729734881e1078af6e",
       "version_major": 2,
       "version_minor": 0
      },
      "text/plain": [
       "Downloading vocab.txt:   0%|          | 0.00/226k [00:00<?, ?B/s]"
      ]
     },
     "metadata": {},
     "output_type": "display_data"
    },
    {
     "data": {
      "text/plain": [
       "[{'label': 'NEGATIVE', 'score': 0.8804244995117188}]"
      ]
     },
     "execution_count": 3,
     "metadata": {},
     "output_type": "execute_result"
    }
   ],
   "source": [
    "classifier= pipeline(\"sentiment-analysis\")\n",
    "res=classifier(\"i have beeen waiting for all the time\")\n",
    "res\n",
    "res1=classifier(\"i have been waiting for all the time\")\n",
    "res1"
   ]
  },
  {
   "cell_type": "code",
   "execution_count": null,
   "id": "fdbd8db8-f0cb-4389-acd8-857fb19cdb56",
   "metadata": {},
   "outputs": [],
   "source": [
    "!pip install wandb"
   ]
  },
  {
   "cell_type": "code",
   "execution_count": null,
   "id": "483b3734-1dd4-4aad-ab6c-e32b12b0387b",
   "metadata": {},
   "outputs": [],
   "source": [
    "!pip install simpletransformers"
   ]
  },
  {
   "cell_type": "code",
   "execution_count": 1,
   "id": "62c2f4bc-0f5a-450f-b9f7-dc13ac5ee634",
   "metadata": {},
   "outputs": [],
   "source": [
    "import json\n",
    "with open(r\"./data/bert-translation/train.json\", \"r\") as read_file:\n",
    "    train = json.load(read_file)"
   ]
  },
  {
   "cell_type": "code",
   "execution_count": 2,
   "id": "1b4d374f-f226-4a84-9da6-18ce01e45473",
   "metadata": {},
   "outputs": [
    {
     "data": {
      "text/plain": [
       "[{'context': 'Mistborn is a series of epic fantasy novels written by American author Brandon Sanderson.',\n",
       "  'qas': [{'id': '00001',\n",
       "    'is_impossible': False,\n",
       "    'question': 'Who is the author of the Mistborn series?',\n",
       "    'answers': [{'text': 'Brandon Sanderson', 'answer_start': 71}]}]},\n",
       " {'context': 'The first series, published between 2006 and 2008, consists of The Final Empire,The Well of Ascension, and The Hero of Ages.',\n",
       "  'qas': [{'id': '00002',\n",
       "    'is_impossible': False,\n",
       "    'question': 'When was the series published?',\n",
       "    'answers': [{'text': 'between 2006 and 2008', 'answer_start': 28}]},\n",
       "   {'id': '00003',\n",
       "    'is_impossible': False,\n",
       "    'question': 'What are the three books in the series?',\n",
       "    'answers': [{'text': 'The Final Empire, The Well of Ascension, and The Hero of Ages',\n",
       "      'answer_start': 63}]},\n",
       "   {'id': '00004',\n",
       "    'is_impossible': True,\n",
       "    'question': 'Who is the main character in the series?',\n",
       "    'answers': []}]}]"
      ]
     },
     "execution_count": 2,
     "metadata": {},
     "output_type": "execute_result"
    }
   ],
   "source": [
    "train"
   ]
  },
  {
   "cell_type": "code",
   "execution_count": 3,
   "id": "bf959555-83b7-4305-a366-3b0fc86f4dd0",
   "metadata": {},
   "outputs": [],
   "source": [
    "with open(r\"./data/bert-translation/test.json\", \"r\") as read_file:\n",
    "    test = json.load(read_file)"
   ]
  },
  {
   "cell_type": "code",
   "execution_count": 4,
   "id": "a3f7a320-29da-4039-a4b1-38df584bcf97",
   "metadata": {},
   "outputs": [
    {
     "data": {
      "text/plain": [
       "[{'context': 'The series primarily takes place in a region called the Final Empire on a world called Scadrial, where the sun and sky are red, vegetation is brown, and the ground is constantly being covered under black volcanic ashfalls.',\n",
       "  'qas': [{'id': '00001',\n",
       "    'is_impossible': False,\n",
       "    'question': 'Where does the series take place?',\n",
       "    'answers': [{'text': 'region called the Final Empire', 'answer_start': 38},\n",
       "     {'text': 'world called Scadrial', 'answer_start': 74}]}]},\n",
       " {'context': '\"Mistings\" have only one of the many Allomantic powers, while \"Mistborns\" have all the powers.',\n",
       "  'qas': [{'id': '00002',\n",
       "    'is_impossible': False,\n",
       "    'question': 'How many powers does a Misting possess?',\n",
       "    'answers': [{'text': 'one', 'answer_start': 21}]},\n",
       "   {'id': '00003',\n",
       "    'is_impossible': True,\n",
       "    'question': 'What are Allomantic powers?',\n",
       "    'answers': []}]}]"
      ]
     },
     "execution_count": 4,
     "metadata": {},
     "output_type": "execute_result"
    }
   ],
   "source": [
    "test"
   ]
  },
  {
   "cell_type": "code",
   "execution_count": 5,
   "id": "385d35ea-299d-4dd1-b347-5ca444518d37",
   "metadata": {},
   "outputs": [],
   "source": [
    "import logging\n",
    "\n",
    "from simpletransformers.question_answering import QuestionAnsweringModel, QuestionAnsweringArgs"
   ]
  },
  {
   "cell_type": "code",
   "execution_count": 6,
   "id": "148c5f40-1346-49c4-9a16-115801175218",
   "metadata": {},
   "outputs": [],
   "source": [
    "model_type=\"bert\"\n",
    "model_name= \"bert-base-cased\"\n",
    "if model_type == \"bert\":\n",
    "    model_name = \"bert-base-cased\"\n",
    "\n",
    "elif model_type == \"roberta\":\n",
    "    model_name = \"roberta-base\"\n",
    "\n",
    "elif model_type == \"distilbert\":\n",
    "    model_name = \"distilbert-base-cased\"\n",
    "\n",
    "elif model_type == \"distilroberta\":\n",
    "    model_type = \"roberta\"\n",
    "    model_name = \"distilroberta-base\"\n",
    "\n",
    "elif model_type == \"electra-base\":\n",
    "    model_type = \"electra\"\n",
    "    model_name = \"google/electra-base-discriminator\"\n",
    "\n",
    "elif model_type == \"electra-small\":\n",
    "    model_type = \"electra\"\n",
    "    model_name = \"google/electra-small-discriminator\"\n",
    "\n",
    "elif model_type == \"xlnet\":\n",
    "    model_name = \"xlnet-base-cased\""
   ]
  },
  {
   "cell_type": "code",
   "execution_count": 7,
   "id": "019c220d-c54e-4135-bae7-fd63641b0a17",
   "metadata": {},
   "outputs": [],
   "source": [
    "# Configure the model \n",
    "model_args = QuestionAnsweringArgs()\n",
    "model_args.train_batch_size = 16\n",
    "model_args.evaluate_during_training = True\n",
    "model_args.n_best_size=3\n",
    "model_args.num_train_epochs=5"
   ]
  },
  {
   "cell_type": "code",
   "execution_count": 8,
   "id": "073f471b-9325-4397-82e1-4c82612bd219",
   "metadata": {},
   "outputs": [],
   "source": [
    "### Advanced Methodology\n",
    "train_args = {\n",
    "    \"reprocess_input_data\": True,\n",
    "    \"overwrite_output_dir\": True,\n",
    "    \"use_cached_eval_features\": True,\n",
    "    \"output_dir\": f\"outputs/{model_type}\",\n",
    "    \"best_model_dir\": f\"outputs/{model_type}/best_model\",\n",
    "    \"evaluate_during_training\": True,\n",
    "    \"max_seq_length\": 128,\n",
    "    \"num_train_epochs\": 5,\n",
    "    \"evaluate_during_training_steps\": 1000,\n",
    "    \"wandb_project\": \"Question Answer Application\",\n",
    "    \"wandb_kwargs\": {\"name\": model_name},\n",
    "    \"save_model_every_epoch\": False,\n",
    "    \"save_eval_checkpoints\": False,\n",
    "    \"n_best_size\":3,\n",
    "    # \"use_early_stopping\": True,\n",
    "    # \"early_stopping_metric\": \"mcc\",\n",
    "    # \"n_gpu\": 2,\n",
    "    # \"manual_seed\": 4,\n",
    "    # \"use_multiprocessing\": False,\n",
    "    \"train_batch_size\": 128,\n",
    "    \"eval_batch_size\": 64,\n",
    "    # \"config\": {\n",
    "    #     \"output_hidden_states\": True\n",
    "    # }\n",
    "}"
   ]
  },
  {
   "cell_type": "code",
   "execution_count": 10,
   "id": "b05751ad-ea32-48a0-a518-8413e6e10ca9",
   "metadata": {},
   "outputs": [
    {
     "name": "stderr",
     "output_type": "stream",
     "text": [
      "Some weights of the model checkpoint at bert-base-cased were not used when initializing BertForQuestionAnswering: ['cls.predictions.transform.dense.weight', 'cls.predictions.transform.LayerNorm.bias', 'cls.seq_relationship.bias', 'cls.predictions.decoder.weight', 'cls.seq_relationship.weight', 'cls.predictions.transform.dense.bias', 'cls.predictions.transform.LayerNorm.weight', 'cls.predictions.bias']\n",
      "- This IS expected if you are initializing BertForQuestionAnswering from the checkpoint of a model trained on another task or with another architecture (e.g. initializing a BertForSequenceClassification model from a BertForPreTraining model).\n",
      "- This IS NOT expected if you are initializing BertForQuestionAnswering from the checkpoint of a model that you expect to be exactly identical (initializing a BertForSequenceClassification model from a BertForSequenceClassification model).\n",
      "Some weights of BertForQuestionAnswering were not initialized from the model checkpoint at bert-base-cased and are newly initialized: ['qa_outputs.weight', 'qa_outputs.bias']\n",
      "You should probably TRAIN this model on a down-stream task to be able to use it for predictions and inference.\n"
     ]
    }
   ],
   "source": [
    "model = QuestionAnsweringModel(\n",
    "    model_type,model_name, args=train_args,use_cuda=True\n",
    ")"
   ]
  },
  {
   "cell_type": "code",
   "execution_count": 11,
   "id": "b9b17202-3f4d-4d41-ad22-f5e5eba8f092",
   "metadata": {},
   "outputs": [
    {
     "name": "stderr",
     "output_type": "stream",
     "text": [
      "convert squad examples to features:   0%|          | 0/4 [00:00<?, ?it/s]Could not find answer: 'The Final Empire,The Well of Ascension, and The Hero of Ages.' vs. 'The Final Empire, The Well of Ascension, and The Hero of Ages'\n",
      "convert squad examples to features: 100%|██████████| 4/4 [00:00<00:00, 194.03it/s]\n",
      "add example index and unique id: 100%|██████████| 4/4 [00:00<00:00, 17172.18it/s]\n",
      "/root/miniconda3/lib/python3.8/site-packages/transformers/optimization.py:306: FutureWarning: This implementation of AdamW is deprecated and will be removed in a future version. Use the PyTorch implementation torch.optim.AdamW instead, or set `no_deprecation_warning=True` to disable this warning\n",
      "  warnings.warn(\n"
     ]
    },
    {
     "data": {
      "application/vnd.jupyter.widget-view+json": {
       "model_id": "7338d9d2b4234f8aa72fd2413b0602db",
       "version_major": 2,
       "version_minor": 0
      },
      "text/plain": [
       "Epoch:   0%|          | 0/5 [00:00<?, ?it/s]"
      ]
     },
     "metadata": {},
     "output_type": "display_data"
    },
    {
     "name": "stderr",
     "output_type": "stream",
     "text": [
      "\u001b[34m\u001b[1mwandb\u001b[0m: Currently logged in as: \u001b[33mjaswu\u001b[0m. Use \u001b[1m`wandb login --relogin`\u001b[0m to force relogin\n"
     ]
    },
    {
     "data": {
      "text/html": [
       "Tracking run with wandb version 0.13.1"
      ],
      "text/plain": [
       "<IPython.core.display.HTML object>"
      ]
     },
     "metadata": {},
     "output_type": "display_data"
    },
    {
     "data": {
      "text/html": [
       "Run data is saved locally in <code>/root/autodl-tmp/wandb/run-20220816_085208-gq3iz8vr</code>"
      ],
      "text/plain": [
       "<IPython.core.display.HTML object>"
      ]
     },
     "metadata": {},
     "output_type": "display_data"
    },
    {
     "data": {
      "text/html": [
       "Syncing run <strong><a href=\"https://wandb.ai/jaswu/Question%20Answer%20Application/runs/gq3iz8vr\" target=\"_blank\">bert-base-cased</a></strong> to <a href=\"https://wandb.ai/jaswu/Question%20Answer%20Application\" target=\"_blank\">Weights & Biases</a> (<a href=\"https://wandb.me/run\" target=\"_blank\">docs</a>)<br/>"
      ],
      "text/plain": [
       "<IPython.core.display.HTML object>"
      ]
     },
     "metadata": {},
     "output_type": "display_data"
    },
    {
     "data": {
      "application/vnd.jupyter.widget-view+json": {
       "model_id": "c58c25c2a3f242cda917cc50b63aa879",
       "version_major": 2,
       "version_minor": 0
      },
      "text/plain": [
       "Running Epoch 0 of 5:   0%|          | 0/1 [00:00<?, ?it/s]"
      ]
     },
     "metadata": {},
     "output_type": "display_data"
    },
    {
     "name": "stderr",
     "output_type": "stream",
     "text": [
      "/root/miniconda3/lib/python3.8/site-packages/torch/optim/lr_scheduler.py:131: UserWarning: Detected call of `lr_scheduler.step()` before `optimizer.step()`. In PyTorch 1.1.0 and later, you should call them in the opposite order: `optimizer.step()` before `lr_scheduler.step()`.  Failure to do this will result in PyTorch skipping the first value of the learning rate schedule. See more details at https://pytorch.org/docs/stable/optim.html#how-to-adjust-learning-rate\n",
      "  warnings.warn(\"Detected call of `lr_scheduler.step()` before `optimizer.step()`. \"\n"
     ]
    },
    {
     "data": {
      "application/vnd.jupyter.widget-view+json": {
       "model_id": "500b36bc4efc4a86ba0ed645de0cf771",
       "version_major": 2,
       "version_minor": 0
      },
      "text/plain": [
       "Running Evaluation:   0%|          | 0/1 [00:00<?, ?it/s]"
      ]
     },
     "metadata": {},
     "output_type": "display_data"
    },
    {
     "data": {
      "application/vnd.jupyter.widget-view+json": {
       "model_id": "b143b19f154d487692f46207e5de342d",
       "version_major": 2,
       "version_minor": 0
      },
      "text/plain": [
       "Running Epoch 1 of 5:   0%|          | 0/1 [00:00<?, ?it/s]"
      ]
     },
     "metadata": {},
     "output_type": "display_data"
    },
    {
     "data": {
      "application/vnd.jupyter.widget-view+json": {
       "model_id": "fa19760ddd9e428f8e77a050c7b14a52",
       "version_major": 2,
       "version_minor": 0
      },
      "text/plain": [
       "Running Evaluation:   0%|          | 0/1 [00:00<?, ?it/s]"
      ]
     },
     "metadata": {},
     "output_type": "display_data"
    },
    {
     "data": {
      "application/vnd.jupyter.widget-view+json": {
       "model_id": "53fee35aad214fb096ea699ed30fa6c5",
       "version_major": 2,
       "version_minor": 0
      },
      "text/plain": [
       "Running Epoch 2 of 5:   0%|          | 0/1 [00:00<?, ?it/s]"
      ]
     },
     "metadata": {},
     "output_type": "display_data"
    },
    {
     "data": {
      "application/vnd.jupyter.widget-view+json": {
       "model_id": "ea53a3b5c6ab4a92972b5273bfe350b1",
       "version_major": 2,
       "version_minor": 0
      },
      "text/plain": [
       "Running Evaluation:   0%|          | 0/1 [00:00<?, ?it/s]"
      ]
     },
     "metadata": {},
     "output_type": "display_data"
    },
    {
     "data": {
      "application/vnd.jupyter.widget-view+json": {
       "model_id": "26a1b8541b2842b481b5f573608dcd81",
       "version_major": 2,
       "version_minor": 0
      },
      "text/plain": [
       "Running Epoch 3 of 5:   0%|          | 0/1 [00:00<?, ?it/s]"
      ]
     },
     "metadata": {},
     "output_type": "display_data"
    },
    {
     "data": {
      "application/vnd.jupyter.widget-view+json": {
       "model_id": "b7a46a9c04104177b70d93156d8e3a3e",
       "version_major": 2,
       "version_minor": 0
      },
      "text/plain": [
       "Running Evaluation:   0%|          | 0/1 [00:00<?, ?it/s]"
      ]
     },
     "metadata": {},
     "output_type": "display_data"
    },
    {
     "data": {
      "application/vnd.jupyter.widget-view+json": {
       "model_id": "21c0f85e3ba74be69f7319d3cc70eb38",
       "version_major": 2,
       "version_minor": 0
      },
      "text/plain": [
       "Running Epoch 4 of 5:   0%|          | 0/1 [00:00<?, ?it/s]"
      ]
     },
     "metadata": {},
     "output_type": "display_data"
    },
    {
     "data": {
      "application/vnd.jupyter.widget-view+json": {
       "model_id": "7406316e9b4f47dcb07f6d49505c695c",
       "version_major": 2,
       "version_minor": 0
      },
      "text/plain": [
       "Running Evaluation:   0%|          | 0/1 [00:00<?, ?it/s]"
      ]
     },
     "metadata": {},
     "output_type": "display_data"
    },
    {
     "data": {
      "text/plain": [
       "(5,\n",
       " {'global_step': [1, 2, 3, 4, 5],\n",
       "  'correct': [1, 0, 0, 0, 0],\n",
       "  'similar': [0, 1, 1, 1, 1],\n",
       "  'incorrect': [2, 2, 2, 2, 2],\n",
       "  'train_loss': [4.6829423904418945,\n",
       "   4.69921875,\n",
       "   4.1555986404418945,\n",
       "   3.7005209922790527,\n",
       "   3.4733071327209473],\n",
       "  'eval_loss': [-0.1904296875,\n",
       "   -0.298583984375,\n",
       "   -0.384521484375,\n",
       "   -0.444580078125,\n",
       "   -0.47509765625]})"
      ]
     },
     "execution_count": 11,
     "metadata": {},
     "output_type": "execute_result"
    }
   ],
   "source": [
    "# Train the model\n",
    "model.train_model(train, eval_data=test)"
   ]
  },
  {
   "cell_type": "code",
   "execution_count": 12,
   "id": "74df807e-3ada-4472-8539-495f691c3e6e",
   "metadata": {},
   "outputs": [
    {
     "data": {
      "application/vnd.jupyter.widget-view+json": {
       "model_id": "72227f6bc8434d7ba879aead24824a61",
       "version_major": 2,
       "version_minor": 0
      },
      "text/plain": [
       "Running Evaluation:   0%|          | 0/1 [00:00<?, ?it/s]"
      ]
     },
     "metadata": {},
     "output_type": "display_data"
    }
   ],
   "source": [
    "# Evaluate the model\n",
    "result, texts = model.eval_model(test)"
   ]
  },
  {
   "cell_type": "code",
   "execution_count": 15,
   "id": "68397c3c-1a2d-40a5-9e42-daea4be0d27c",
   "metadata": {},
   "outputs": [
    {
     "data": {
      "text/plain": [
       "{'correct': 0, 'similar': 1, 'incorrect': 2, 'eval_loss': -0.47509765625}"
      ]
     },
     "execution_count": 15,
     "metadata": {},
     "output_type": "execute_result"
    }
   ],
   "source": [
    "result"
   ]
  },
  {
   "cell_type": "code",
   "execution_count": 35,
   "id": "52b8de6c-8cac-4a4e-acc3-1830f95875d9",
   "metadata": {},
   "outputs": [],
   "source": [
    "\n",
    "# Make predictions with the model\n",
    "to_predict = [\n",
    "    {\n",
    "        \"context\": \"The series primarily takes place in the New York during 2020 to 2022.\",\n",
    "        \"qas\": [\n",
    "            {\n",
    "                \"question\": \"When does the series take place?\",\n",
    "                \"id\": \"0\",\n",
    "            }\n",
    "        ],\n",
    "    }\n",
    "]"
   ]
  },
  {
   "cell_type": "code",
   "execution_count": 36,
   "id": "951a9dbb-fc08-47bf-8d05-be91f2daccfa",
   "metadata": {},
   "outputs": [
    {
     "name": "stderr",
     "output_type": "stream",
     "text": [
      "convert squad examples to features: 100%|██████████| 1/1 [00:00<00:00, 502.91it/s]\n",
      "add example index and unique id: 100%|██████████| 1/1 [00:00<00:00, 1722.51it/s]\n"
     ]
    },
    {
     "data": {
      "application/vnd.jupyter.widget-view+json": {
       "model_id": "08dc417c4fe14c74b93011538149ccf3",
       "version_major": 2,
       "version_minor": 0
      },
      "text/plain": [
       "Running Prediction:   0%|          | 0/1 [00:00<?, ?it/s]"
      ]
     },
     "metadata": {},
     "output_type": "display_data"
    },
    {
     "name": "stdout",
     "output_type": "stream",
     "text": [
      "[{'id': '0', 'answer': ['during 2020 to 2022']}]\n"
     ]
    }
   ],
   "source": [
    "answers, probabilities = model.predict(to_predict)\n",
    "\n",
    "print(answers)"
   ]
  }
 ],
 "metadata": {
  "kernelspec": {
   "display_name": "Python 3 (ipykernel)",
   "language": "python",
   "name": "python3"
  },
  "language_info": {
   "codemirror_mode": {
    "name": "ipython",
    "version": 3
   },
   "file_extension": ".py",
   "mimetype": "text/x-python",
   "name": "python",
   "nbconvert_exporter": "python",
   "pygments_lexer": "ipython3",
   "version": "3.8.10"
  }
 },
 "nbformat": 4,
 "nbformat_minor": 5
}

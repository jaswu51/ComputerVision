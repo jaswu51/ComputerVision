{
  "nbformat": 4,
  "nbformat_minor": 0,
  "metadata": {
    "colab": {
      "provenance": [],
      "collapsed_sections": [],
      "authorship_tag": "ABX9TyOXEZimXkN7mF7oJ8AvDwjq",
      "include_colab_link": true
    },
    "kernelspec": {
      "name": "python3",
      "display_name": "Python 3"
    },
    "language_info": {
      "name": "python"
    }
  },
  "cells": [
    {
      "cell_type": "markdown",
      "metadata": {
        "id": "view-in-github",
        "colab_type": "text"
      },
      "source": [
        "<a href=\"https://colab.research.google.com/github/jaswu51/ComputerVision/blob/main/autoEncoder.ipynb\" target=\"_parent\"><img src=\"https://colab.research.google.com/assets/colab-badge.svg\" alt=\"Open In Colab\"/></a>"
      ]
    },
    {
      "cell_type": "markdown",
      "source": [
        "# Loading dog dataset"
      ],
      "metadata": {
        "id": "fyGiBEx1UB0y"
      }
    },
    {
      "cell_type": "code",
      "execution_count": 286,
      "metadata": {
        "id": "O9mTXnXtG_Vd"
      },
      "outputs": [],
      "source": [
        "! pip install -q kaggle"
      ]
    },
    {
      "cell_type": "code",
      "source": [
        "# !mkdir ~/.kaggle\n",
        "!touch ~/.kaggle/kaggle.json\n",
        "\n",
        "api_token = {\"username\":\"yourApiName\",\"key\":\"yourkey\"}\n",
        "\n",
        "import json\n",
        "\n",
        "with open('/root/.kaggle/kaggle.json', 'w') as file:\n",
        "    json.dump(api_token, file)\n",
        "\n",
        "!chmod 600 ~/.kaggle/kaggle.json"
      ],
      "metadata": {
        "id": "LP6yfjO1HUBK"
      },
      "execution_count": 287,
      "outputs": []
    },
    {
      "cell_type": "code",
      "source": [
        "!kaggle datasets download -d erkamk/cat-and-dog-images-dataset"
      ],
      "metadata": {
        "colab": {
          "base_uri": "https://localhost:8080/"
        },
        "id": "ziZeqbNwHD1a",
        "outputId": "93bd2d83-56d6-47ad-d062-3f0a30297449"
      },
      "execution_count": 288,
      "outputs": [
        {
          "output_type": "stream",
          "name": "stdout",
          "text": [
            "cat-and-dog-images-dataset.zip: Skipping, found more recently modified local copy (use --force to force download)\n"
          ]
        }
      ]
    },
    {
      "cell_type": "code",
      "source": [
        "!pip install torchshow"
      ],
      "metadata": {
        "colab": {
          "base_uri": "https://localhost:8080/"
        },
        "id": "uWWHTPShghz7",
        "outputId": "285f21a7-6c3d-4350-bd94-74b32c903eb9"
      },
      "execution_count": 289,
      "outputs": [
        {
          "output_type": "stream",
          "name": "stdout",
          "text": [
            "Looking in indexes: https://pypi.org/simple, https://us-python.pkg.dev/colab-wheels/public/simple/\n",
            "Requirement already satisfied: torchshow in /usr/local/lib/python3.7/dist-packages (0.4.2)\n",
            "Requirement already satisfied: numpy in /usr/local/lib/python3.7/dist-packages (from torchshow) (1.21.6)\n",
            "Requirement already satisfied: matplotlib in /usr/local/lib/python3.7/dist-packages (from torchshow) (3.2.2)\n",
            "Requirement already satisfied: pyparsing!=2.0.4,!=2.1.2,!=2.1.6,>=2.0.1 in /usr/local/lib/python3.7/dist-packages (from matplotlib->torchshow) (3.0.9)\n",
            "Requirement already satisfied: kiwisolver>=1.0.1 in /usr/local/lib/python3.7/dist-packages (from matplotlib->torchshow) (1.4.4)\n",
            "Requirement already satisfied: cycler>=0.10 in /usr/local/lib/python3.7/dist-packages (from matplotlib->torchshow) (0.11.0)\n",
            "Requirement already satisfied: python-dateutil>=2.1 in /usr/local/lib/python3.7/dist-packages (from matplotlib->torchshow) (2.8.2)\n",
            "Requirement already satisfied: typing-extensions in /usr/local/lib/python3.7/dist-packages (from kiwisolver>=1.0.1->matplotlib->torchshow) (4.1.1)\n",
            "Requirement already satisfied: six>=1.5 in /usr/local/lib/python3.7/dist-packages (from python-dateutil>=2.1->matplotlib->torchshow) (1.15.0)\n"
          ]
        }
      ]
    },
    {
      "cell_type": "code",
      "source": [
        "import numpy as np\n",
        "import pandas as pd\n",
        "import matplotlib.pyplot as plt\n",
        "import cv2\n",
        "import zipfile,os\n",
        "import warnings\n",
        "import torchvision.transforms.functional as F\n",
        "import torchvision.transforms as transforms\n",
        "from torchvision import datasets\n",
        "import torch.nn as nn\n",
        "import torch.nn.functional as f\n",
        "from PIL import Image\n",
        "import torch\n",
        "from pathlib import Path\n",
        "import torchshow as ts"
      ],
      "metadata": {
        "id": "eR5aRRcDNMIz"
      },
      "execution_count": 290,
      "outputs": []
    },
    {
      "cell_type": "code",
      "source": [
        "#unzip the downloaded dataset, use only the dog data\n",
        "working_directory = os.getcwd()\n",
        "os.chdir(working_directory)\n",
        "for file in os.listdir(working_directory):   # get the list of files\n",
        "    if zipfile.is_zipfile(file): # if it is a zipfile, extract it\n",
        "        with zipfile.ZipFile(file) as item: # treat the file as a zip\n",
        "           item.extractall()  # extract it in the working directory"
      ],
      "metadata": {
        "id": "WvFYx4JZK93U"
      },
      "execution_count": 291,
      "outputs": []
    },
    {
      "cell_type": "code",
      "source": [
        "transform = transforms.Compose([\n",
        "    transforms.Resize((64,64)),\n",
        "    transforms.ToTensor(),\n",
        "    # transforms.Normalize(0.5,0.5,0.5)\n",
        "])"
      ],
      "metadata": {
        "id": "3HNoheKWOO_V"
      },
      "execution_count": 292,
      "outputs": []
    },
    {
      "cell_type": "code",
      "source": [
        "training_data_list = []\n",
        "training_data_tensor=[]\n",
        "path=\"/content/Dog\"\n",
        "def create_training_data():\n",
        "  for img in os.listdir(path):\n",
        "    try:\n",
        "      img=Path(path, img)\n",
        "      img=Image.open(img)\n",
        "      img = transform(img)\n",
        "      training_data_list.append([img])\n",
        "    except Exception as e:\n",
        "      pass\n",
        "  for i in training_data_list:\n",
        "    training_data_tensor.append(torch.cat(i))\n",
        "create_training_data()"
      ],
      "metadata": {
        "id": "dPG2IwctM5uX"
      },
      "execution_count": 293,
      "outputs": []
    },
    {
      "cell_type": "code",
      "source": [
        "F.to_pil_image(training_data_tensor[0])"
      ],
      "metadata": {
        "colab": {
          "base_uri": "https://localhost:8080/",
          "height": 81
        },
        "id": "7nPazd_FSxjU",
        "outputId": "ba0b4e97-78bd-4cf2-8edc-ecfdceffa225"
      },
      "execution_count": 294,
      "outputs": [
        {
          "output_type": "execute_result",
          "data": {
            "text/plain": [
              "<PIL.Image.Image image mode=RGB size=64x64 at 0x7FC04751BA50>"
            ],
            "image/png": "[encoded data removed]"
          },
          "metadata": {},
          "execution_count": 294
        }
      ]
    },
    {
      "cell_type": "code",
      "source": [
        "len(training_data_tensor)"
      ],
      "metadata": {
        "colab": {
          "base_uri": "https://localhost:8080/"
        },
        "id": "7ADPFA_rTghV",
        "outputId": "d5c70921-9c6d-4f45-ceac-7a99bb276e5a"
      },
      "execution_count": 295,
      "outputs": [
        {
          "output_type": "execute_result",
          "data": {
            "text/plain": [
              "500"
            ]
          },
          "metadata": {},
          "execution_count": 295
        }
      ]
    },
    {
      "cell_type": "code",
      "source": [
        "# assgin 50 imgs for each batch\n",
        "train_loader = torch.utils.data.DataLoader(\n",
        "    training_data_tensor, batch_size=50, shuffle=True)"
      ],
      "metadata": {
        "id": "uWZttir4YmEV"
      },
      "execution_count": 296,
      "outputs": []
    },
    {
      "cell_type": "markdown",
      "source": [
        "# build a simple autoEncoder"
      ],
      "metadata": {
        "id": "AvqXvV0FVP0V"
      }
    },
    {
      "cell_type": "code",
      "source": [
        "class autoEncoder(nn.Module):\n",
        "  def __init__(self,input_dim,encoding_dim) -> None:\n",
        "    super(autoEncoder,self).__init__()\n",
        "    self.encoder=nn.Linear(input_dim,encoding_dim)\n",
        "    self.decoder=nn.Linear(encoding_dim,input_dim)\n",
        "  def forward(self,x):\n",
        "    encoded= f.relu(self.encoder(x))\n",
        "    decoded= self.decoder(encoded)\n",
        "    return decoded"
      ],
      "metadata": {
        "id": "U3LlZvfMVYLJ"
      },
      "execution_count": 297,
      "outputs": []
    },
    {
      "cell_type": "code",
      "source": [
        "input_dim=64*64*3\n",
        "encoding_dim=100\n",
        "model=autoEncoder(input_dim,encoding_dim)\n",
        "optimizer =torch.optim.Adam(model.parameters())\n",
        "loss_fn=torch.nn.MSELoss()"
      ],
      "metadata": {
        "id": "uuPuHiFnVSdn"
      },
      "execution_count": 298,
      "outputs": []
    },
    {
      "cell_type": "code",
      "source": [
        "output_tensor=[]\n",
        "from torch.optim.optimizer import Optimizer\n",
        "def training_process(model,loss_fn,data_loader=train_loader, epochs=10,optimizer=optimizer):\n",
        "  model.train()\n",
        "  for epoch in range(epochs):\n",
        "    for batch_idx,train_data in enumerate(train_loader):\n",
        "      X= train_data.view([-1,input_dim])\n",
        "      optimizer.zero_grad()\n",
        "      output=model(X)\n",
        "      optimizer.step()\n",
        "      loss=loss_fn(output,X)\n",
        "      output_tensor.append(output)\n",
        "      if batch_idx%2==0 or batch_idx==9 :\n",
        "        print('train epoch {} batch {} with MSE Loss {}'.format(epoch,batch_idx,loss.data.item()))\n",
        "training_process(model,loss_fn,train_loader,epochs=10,optimizer=optimizer)"
      ],
      "metadata": {
        "colab": {
          "base_uri": "https://localhost:8080/"
        },
        "id": "zjrgrz6JVShA",
        "outputId": "d84df27d-1194-4857-8ec3-86eae63c99bd"
      },
      "execution_count": 299,
      "outputs": [
        {
          "output_type": "stream",
          "name": "stdout",
          "text": [
            "train epoch 0 batch 0 with MSE Loss 0.29027852416038513\n",
            "train epoch 0 batch 2 with MSE Loss 0.2761017978191376\n",
            "train epoch 0 batch 4 with MSE Loss 0.28151988983154297\n",
            "train epoch 0 batch 6 with MSE Loss 0.3170468509197235\n",
            "train epoch 0 batch 8 with MSE Loss 0.29902583360671997\n",
            "train epoch 0 batch 9 with MSE Loss 0.2779117226600647\n",
            "train epoch 1 batch 0 with MSE Loss 0.29964742064476013\n",
            "train epoch 1 batch 2 with MSE Loss 0.31511247158050537\n",
            "train epoch 1 batch 4 with MSE Loss 0.29003843665122986\n",
            "train epoch 1 batch 6 with MSE Loss 0.2987866699695587\n",
            "train epoch 1 batch 8 with MSE Loss 0.305463582277298\n",
            "train epoch 1 batch 9 with MSE Loss 0.28960180282592773\n",
            "train epoch 2 batch 0 with MSE Loss 0.2964562177658081\n",
            "train epoch 2 batch 2 with MSE Loss 0.3120309114456177\n",
            "train epoch 2 batch 4 with MSE Loss 0.2936067581176758\n",
            "train epoch 2 batch 6 with MSE Loss 0.2933723032474518\n",
            "train epoch 2 batch 8 with MSE Loss 0.2712637484073639\n",
            "train epoch 2 batch 9 with MSE Loss 0.29421132802963257\n",
            "train epoch 3 batch 0 with MSE Loss 0.28926703333854675\n",
            "train epoch 3 batch 2 with MSE Loss 0.29296430945396423\n",
            "train epoch 3 batch 4 with MSE Loss 0.2866708040237427\n",
            "train epoch 3 batch 6 with MSE Loss 0.2880997061729431\n",
            "train epoch 3 batch 8 with MSE Loss 0.27555784583091736\n",
            "train epoch 3 batch 9 with MSE Loss 0.28391721844673157\n",
            "train epoch 4 batch 0 with MSE Loss 0.2899371385574341\n",
            "train epoch 4 batch 2 with MSE Loss 0.31566235423088074\n",
            "train epoch 4 batch 4 with MSE Loss 0.2792127728462219\n",
            "train epoch 4 batch 6 with MSE Loss 0.28514590859413147\n",
            "train epoch 4 batch 8 with MSE Loss 0.29728642106056213\n",
            "train epoch 4 batch 9 with MSE Loss 0.2866685688495636\n",
            "train epoch 5 batch 0 with MSE Loss 0.28223374485969543\n",
            "train epoch 5 batch 2 with MSE Loss 0.29542383551597595\n",
            "train epoch 5 batch 4 with MSE Loss 0.2911440134048462\n",
            "train epoch 5 batch 6 with MSE Loss 0.30392321944236755\n",
            "train epoch 5 batch 8 with MSE Loss 0.31018614768981934\n",
            "train epoch 5 batch 9 with MSE Loss 0.283652663230896\n",
            "train epoch 6 batch 0 with MSE Loss 0.28681597113609314\n",
            "train epoch 6 batch 2 with MSE Loss 0.2577967047691345\n",
            "train epoch 6 batch 4 with MSE Loss 0.3111433982849121\n",
            "train epoch 6 batch 6 with MSE Loss 0.2973296642303467\n",
            "train epoch 6 batch 8 with MSE Loss 0.2644274830818176\n",
            "train epoch 6 batch 9 with MSE Loss 0.3013302981853485\n",
            "train epoch 7 batch 0 with MSE Loss 0.2855982780456543\n",
            "train epoch 7 batch 2 with MSE Loss 0.28664901852607727\n",
            "train epoch 7 batch 4 with MSE Loss 0.28622522950172424\n",
            "train epoch 7 batch 6 with MSE Loss 0.31128233671188354\n",
            "train epoch 7 batch 8 with MSE Loss 0.25958383083343506\n",
            "train epoch 7 batch 9 with MSE Loss 0.2937193214893341\n",
            "train epoch 8 batch 0 with MSE Loss 0.313657283782959\n",
            "train epoch 8 batch 2 with MSE Loss 0.2700427770614624\n",
            "train epoch 8 batch 4 with MSE Loss 0.3111023008823395\n",
            "train epoch 8 batch 6 with MSE Loss 0.30905282497406006\n",
            "train epoch 8 batch 8 with MSE Loss 0.27741551399230957\n",
            "train epoch 8 batch 9 with MSE Loss 0.29053032398223877\n",
            "train epoch 9 batch 0 with MSE Loss 0.30583682656288147\n",
            "train epoch 9 batch 2 with MSE Loss 0.29767048358917236\n",
            "train epoch 9 batch 4 with MSE Loss 0.303254097700119\n",
            "train epoch 9 batch 6 with MSE Loss 0.28143197298049927\n",
            "train epoch 9 batch 8 with MSE Loss 0.2721109390258789\n",
            "train epoch 9 batch 9 with MSE Loss 0.3066219985485077\n"
          ]
        }
      ]
    },
    {
      "cell_type": "markdown",
      "source": [
        "# compare the reconstruction image"
      ],
      "metadata": {
        "id": "pt5JZBjcmmf0"
      }
    },
    {
      "cell_type": "code",
      "source": [
        "a=output_tensor[0][0]\n",
        "b=torch.reshape(a,(3,64,64))\n",
        "F.to_pil_image(b)"
      ],
      "metadata": {
        "colab": {
          "base_uri": "https://localhost:8080/",
          "height": 81
        },
        "id": "zC0J8GBbeo_a",
        "outputId": "abfe3431-3551-4aa0-f9da-6f9facfb9eab"
      },
      "execution_count": 300,
      "outputs": [
        {
          "output_type": "execute_result",
          "data": {
            "text/plain": [
              "<PIL.Image.Image image mode=RGB size=64x64 at 0x7FC0446A55D0>"
            ],
            "image/png": "[encoded data removed]"
          },
          "metadata": {},
          "execution_count": 300
        }
      ]
    },
    {
      "cell_type": "code",
      "source": [
        "F.to_pil_image(training_data_tensor[0])"
      ],
      "metadata": {
        "colab": {
          "base_uri": "https://localhost:8080/",
          "height": 81
        },
        "id": "mPVCSRMpimC-",
        "outputId": "4afe644b-2a70-4bb3-8fe2-b81e4e578e71"
      },
      "execution_count": 301,
      "outputs": [
        {
          "output_type": "execute_result",
          "data": {
            "text/plain": [
              "<PIL.Image.Image image mode=RGB size=64x64 at 0x7FC0446A5890>"
            ],
            "image/png": "[encoded data removed]"
          },
          "metadata": {},
          "execution_count": 301
        }
      ]
    }
  ]
}